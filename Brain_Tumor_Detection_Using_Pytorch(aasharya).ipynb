{
  "nbformat": 4,
  "nbformat_minor": 0,
  "metadata": {
    "colab": {
      "provenance": []
    },
    "kernelspec": {
      "name": "python3",
      "display_name": "Python 3"
    },
    "language_info": {
      "name": "python"
    }
  },
  "cells": [
    {
      "cell_type": "markdown",
      "source": [
        "# CNN for **Brain** Tumor Detection Using Pytorch"
      ],
      "metadata": {
        "id": "pm5NhWmi847k"
      }
    },
    {
      "cell_type": "code",
      "source": [
        "!pip install split-folders"
      ],
      "metadata": {
        "colab": {
          "base_uri": "https://localhost:8080/"
        },
        "id": "C62U3-1vkS_C",
        "outputId": "08093c72-d524-49bb-83e9-b9edd9600069"
      },
      "execution_count": 1,
      "outputs": [
        {
          "output_type": "stream",
          "name": "stdout",
          "text": [
            "Collecting split-folders\n",
            "  Downloading split_folders-0.5.1-py3-none-any.whl.metadata (6.2 kB)\n",
            "Downloading split_folders-0.5.1-py3-none-any.whl (8.4 kB)\n",
            "Installing collected packages: split-folders\n",
            "Successfully installed split-folders-0.5.1\n"
          ]
        }
      ]
    },
    {
      "cell_type": "code",
      "source": [
        "import numpy as np\n",
        "import matplotlib.pyplot as plt\n",
        "import copy\n",
        "import os\n",
        "import torch\n",
        "from PIL import Image\n",
        "from torch.utils.data import Dataset\n",
        "import torchvision\n",
        "import torchvision.transforms as transforms\n",
        "from torch.optim.lr_scheduler import ReduceLROnPlateau\n",
        "import torch.nn as nn\n",
        "from torchvision import utils\n",
        "from torchvision.datasets import ImageFolder\n",
        "import splitfolders\n",
        "import torch.nn.functional as F\n",
        "import pathlib\n",
        "from torch import optim"
      ],
      "metadata": {
        "id": "JYk2-gMMfUIs"
      },
      "execution_count": 2,
      "outputs": []
    },
    {
      "cell_type": "code",
      "execution_count": 3,
      "metadata": {
        "id": "KV5-aDKuW2zj",
        "colab": {
          "base_uri": "https://localhost:8080/"
        },
        "outputId": "d3cc0f83-78ce-4c44-a6ee-c1e3a4605635"
      },
      "outputs": [
        {
          "output_type": "stream",
          "name": "stdout",
          "text": [
            "Mounted at /content/drive\n"
          ]
        }
      ],
      "source": [
        "from google.colab import drive\n",
        "\n",
        "# Mount Google Drive\n",
        "drive.mount('/content/drive')"
      ]
    },
    {
      "cell_type": "code",
      "execution_count": 4,
      "metadata": {
        "id": "hMib9_awW2xu"
      },
      "outputs": [],
      "source": [
        "import zipfile\n",
        "\n",
        "# Step 2: Specify the path to the zip file in Google Drive\n",
        "#zip_file_path = '/content/drive/MyDrive/Brain Tumor Data Set/archive(1).zip'\n",
        "#extract_dir = '/content/drive/MyDrive/Brain Tumor Data Set'\n",
        "\n",
        "# Ensure the extract directory exists\n",
        "#os.makedirs(extract_dir, exist_ok=True)\n",
        "\n",
        "# Step 3: Unzip the file\n",
        "#with zipfile.ZipFile(zip_file_path, 'r') as zip_ref:\n",
        " #   zip_ref.extractall(extract_dir)"
      ]
    },
    {
      "cell_type": "code",
      "execution_count": 5,
      "metadata": {
        "id": "y49SUxdjW2t-",
        "colab": {
          "base_uri": "https://localhost:8080/"
        },
        "outputId": "d89ec265-3a9a-4129-8c08-bc30f538a166"
      },
      "outputs": [
        {
          "output_type": "execute_result",
          "data": {
            "text/plain": [
              "['Testing', 'Training']"
            ]
          },
          "metadata": {},
          "execution_count": 5
        }
      ],
      "source": [
        "os.listdir(\"/content/drive/MyDrive/Brain Tumor Data Set\")"
      ]
    },
    {
      "cell_type": "code",
      "execution_count": 6,
      "metadata": {
        "id": "13DYWSqqW2sT"
      },
      "outputs": [],
      "source": [
        "data_dir = \"/content/drive/MyDrive/Brain Tumor Data Set\"\n",
        "data_dir = pathlib.Path(data_dir)\n",
        "\n"
      ]
    },
    {
      "cell_type": "code",
      "execution_count": 6,
      "metadata": {
        "id": "XPFRMudjW2oa"
      },
      "outputs": [],
      "source": []
    },
    {
      "cell_type": "code",
      "execution_count": 7,
      "metadata": {
        "id": "De4TXyzwW2nD"
      },
      "outputs": [],
      "source": [
        "transform = transforms.Compose(\n",
        "    [\n",
        "        transforms.Resize((128,128)),\n",
        "        transforms.RandomHorizontalFlip(p=0.5),\n",
        "        transforms.RandomVerticalFlip(p=0.5),\n",
        "        transforms.RandomRotation(30),\n",
        "        transforms.ToTensor(),\n",
        "        transforms.Normalize(mean=[0.485, 0.456, 0.406], std=[0.229, 0.224, 0.225])\n",
        "    ]\n",
        ")"
      ]
    },
    {
      "cell_type": "code",
      "execution_count": 8,
      "metadata": {
        "id": "8-3ctO27W2i1",
        "colab": {
          "base_uri": "https://localhost:8080/"
        },
        "outputId": "f118e279-0d1a-47e4-d1cb-5018fbba5d90"
      },
      "outputs": [
        {
          "output_type": "execute_result",
          "data": {
            "text/plain": [
              "Compose(\n",
              "    Resize(size=(128, 128), interpolation=bilinear, max_size=None, antialias=True)\n",
              "    RandomHorizontalFlip(p=0.5)\n",
              "    RandomVerticalFlip(p=0.5)\n",
              "    RandomRotation(degrees=[-30.0, 30.0], interpolation=nearest, expand=False, fill=0)\n",
              "    ToTensor()\n",
              "    Normalize(mean=[0.485, 0.456, 0.406], std=[0.229, 0.224, 0.225])\n",
              ")"
            ]
          },
          "metadata": {},
          "execution_count": 8
        }
      ],
      "source": [
        "train_set = torchvision.datasets.ImageFolder(data_dir.joinpath('Training'), transform=transform)\n",
        "train_set.transform\n",
        "val_set = torchvision.datasets.ImageFolder(data_dir.joinpath('Testing'), transform=transform)\n",
        "val_set.transform"
      ]
    },
    {
      "cell_type": "code",
      "execution_count": 9,
      "metadata": {
        "id": "PAv9h6qbW2hY",
        "colab": {
          "base_uri": "https://localhost:8080/"
        },
        "outputId": "057a1110-04ef-4bd8-80c6-2c4a64fb52bb"
      },
      "outputs": [
        {
          "output_type": "stream",
          "name": "stdout",
          "text": [
            "Dataset ImageFolder\n",
            "    Number of datapoints: 2870\n",
            "    Root location: /content/drive/MyDrive/Brain Tumor Data Set/Training\n",
            "    StandardTransform\n",
            "Transform: Compose(\n",
            "               Resize(size=(128, 128), interpolation=bilinear, max_size=None, antialias=True)\n",
            "               RandomHorizontalFlip(p=0.5)\n",
            "               RandomVerticalFlip(p=0.5)\n",
            "               RandomRotation(degrees=[-30.0, 30.0], interpolation=nearest, expand=False, fill=0)\n",
            "               ToTensor()\n",
            "               Normalize(mean=[0.485, 0.456, 0.406], std=[0.229, 0.224, 0.225])\n",
            "           )\n"
          ]
        }
      ],
      "source": [
        "print(train_set)"
      ]
    },
    {
      "cell_type": "code",
      "execution_count": 10,
      "metadata": {
        "id": "qQ2eoeHfW2dh",
        "colab": {
          "base_uri": "https://localhost:8080/",
          "height": 489
        },
        "outputId": "78c8d3e8-bd14-4128-9b1a-1cc986214b21"
      },
      "outputs": [
        {
          "output_type": "stream",
          "name": "stderr",
          "text": [
            "WARNING:matplotlib.image:Clipping input data to the valid range for imshow with RGB data ([0..1] for floats or [0..255] for integers).\n"
          ]
        },
        {
          "output_type": "execute_result",
          "data": {
            "text/plain": [
              "<matplotlib.image.AxesImage at 0x7a4c1ca93be0>"
            ]
          },
          "metadata": {},
          "execution_count": 10
        },
        {
          "output_type": "display_data",
          "data": {
            "text/plain": [
              "<Figure size 640x480 with 1 Axes>"
            ],
            "image/png": "[encoded data removed]"
          },
          "metadata": {}
        }
      ],
      "source": [
        "img, label = train_set[1000]\n",
        "plt.imshow(img.permute(1,2,0))"
      ]
    },
    {
      "cell_type": "code",
      "source": [
        "batch_size = 32\n",
        "train_loader = torch.utils.data.DataLoader(train_set, batch_size=batch_size, shuffle=True, num_workers=2, pin_memory=True)\n",
        "val_loader = torch.utils.data.DataLoader(val_set, batch_size=batch_size, shuffle=True, num_workers=2, pin_memory=True)"
      ],
      "metadata": {
        "id": "_Tw8QBLFqV3F"
      },
      "execution_count": 16,
      "outputs": []
    },
    {
      "cell_type": "code",
      "source": [
        "next(iter(val_loader))[0].shape"
      ],
      "metadata": {
        "colab": {
          "base_uri": "https://localhost:8080/"
        },
        "id": "pnnS0iXfqVvv",
        "outputId": "46d69d05-921c-4483-edb7-6a6153d0d403"
      },
      "execution_count": 17,
      "outputs": [
        {
          "output_type": "execute_result",
          "data": {
            "text/plain": [
              "torch.Size([32, 3, 128, 128])"
            ]
          },
          "metadata": {},
          "execution_count": 17
        }
      ]
    },
    {
      "cell_type": "code",
      "source": [
        "class CNNModel(nn.Module):\n",
        "  def __init__(self):\n",
        "    super(CNNModel, self).__init__()\n",
        "\n",
        "    #Conv 1\n",
        "    self.cnv1 = nn.Conv2d(in_channels=3, out_channels=16, kernel_size=5, stride=1, padding=0) #128-5+1=124\n",
        "\n",
        "    #Max Pool 1\n",
        "    self.maxpool1 = nn.MaxPool2d(kernel_size=2) #124/2 = 64\n",
        "\n",
        "    #Conv 2\n",
        "    self.cnv2 = nn.Conv2d(in_channels=16, out_channels=32, kernel_size=5, stride=1, padding=0) #60\n",
        "\n",
        "    #Max Pool 2\n",
        "    self.maxpool2 = nn.MaxPool2d(kernel_size=2) #30\n",
        "\n",
        "    #Conv 3\n",
        "    self.cnv3 = nn.Conv2d(in_channels=32, out_channels=64, kernel_size=5, stride=1, padding=0) #26\n",
        "\n",
        "    #Max Pool 3\n",
        "    self.maxpool3 = nn.MaxPool2d(kernel_size=2) #13\n",
        "\n",
        "    #Conv 4\n",
        "    self.cnv4 = nn.Conv2d(in_channels=64, out_channels=128, kernel_size=5, stride=1, padding=0) #9\n",
        "\n",
        "    #Max Pool 4\n",
        "    self.maxpool4 = nn.MaxPool2d(kernel_size=2) #4\n",
        "\n",
        "    #Activation Function\n",
        "    self.leakyRelu = nn.LeakyReLU()\n",
        "\n",
        "    #Fully connected Layer 1\n",
        "    self.fc1 = nn.Linear(128*4*4, 1024)\n",
        "\n",
        "    #Fully connected Layer 2\n",
        "    self.fc2 = nn.Linear(1024, 2)\n",
        "\n",
        "  def forward(self, x):\n",
        "    #Layer 1\n",
        "    out = self.leakyRelu(self.cnv1(x))\n",
        "    out = self.maxpool1(out)\n",
        "\n",
        "    #Layer 2\n",
        "    out = self.leakyRelu(self.cnv2(out))\n",
        "    out = self.maxpool2(out)\n",
        "\n",
        "    #Layer 3\n",
        "    out = self.leakyRelu(self.cnv3(out))\n",
        "    out = self.maxpool3(out)\n",
        "\n",
        "    #Layer 4\n",
        "    out = self.leakyRelu(self.cnv4(out))\n",
        "    out = self.maxpool4(out)\n",
        "\n",
        "    #flatten\n",
        "    out = out.view(out.size(0), -1)\n",
        "\n",
        "    # Linear Function\n",
        "    out = self.leakyRelu(self.fc1(out))\n",
        "    out = self.fc2(out)\n",
        "\n",
        "    return out\n",
        "\n"
      ],
      "metadata": {
        "id": "iw8GobieqVor"
      },
      "execution_count": 18,
      "outputs": []
    },
    {
      "cell_type": "code",
      "source": [
        "# Training CNN\n",
        "num_epochs = 10\n",
        "model = CNNModel()\n",
        "error = nn.CrossEntropyLoss()\n",
        "\n",
        "lr = 0.001\n",
        "optimizer = optim.Adam(model.parameters(), lr=lr)\n",
        "scheduler = ReduceLROnPlateau(optimizer, mode='min', factor=0.5, patience=5)"
      ],
      "metadata": {
        "id": "QiD2W_6qqVkY"
      },
      "execution_count": 19,
      "outputs": []
    },
    {
      "cell_type": "code",
      "source": [
        "train_loss_list = []\n",
        "val_loss_list = []\n",
        "accuracy_list = []\n",
        "\n",
        "for epoch in range(num_epochs):\n",
        "  train_loss = 0\n",
        "  val_loss = 0\n",
        "  for i, (images, labels) in enumerate(train_loader):\n",
        "\n",
        "    optimizer.zero_grad()\n",
        "    outputs = model(images)\n",
        "    loss = error(outputs, labels)\n",
        "    train_loss+=loss.item()\n",
        "    loss.backward()\n",
        "    optimizer.step()\n",
        "    print(\"Loss in Iteration:\", i, \":\", loss.item())\n",
        "  total = 0\n",
        "  correct = 0\n",
        "  for images, labels in val_loader:\n",
        "    outputs = model(images)\n",
        "    v_loss = error(outputs, labels)\n",
        "    val_loss+=v_loss.item()\n",
        "    predicted = torch.max(outputs.data, 1)[1]\n",
        "\n",
        "    total+=len(labels)\n",
        "    correct+=(predicted==labels).sum()\n",
        "\n",
        "\n",
        "  scheduler.step(val_loss/len(val_loader))\n",
        "  accuracy = 100*correct/float(total)\n",
        "  train_loss_list.append(train_loss/len(train_loader))\n",
        "  val_loss_list.append(val_loss/len(val_loader))\n",
        "  accuracy_list.append(accuracy)\n",
        "  print(\"Epoch:{}  Loss:{}  Acciracy:{}%\".format(epoch, train_loss/len(train_loader), accuracy))"
      ],
      "metadata": {
        "colab": {
          "base_uri": "https://localhost:8080/"
        },
        "id": "-PUZMNAbqVho",
        "outputId": "c4e12335-4fd3-434f-eb66-7b551324d549"
      },
      "execution_count": 20,
      "outputs": [
        {
          "output_type": "stream",
          "name": "stdout",
          "text": [
            "Loss in Iteration: 0 : 0.6978961825370789\n",
            "Loss in Iteration: 1 : 0.43448230624198914\n",
            "Loss in Iteration: 2 : 0.9028152227401733\n",
            "Loss in Iteration: 3 : 0.3899657130241394\n",
            "Loss in Iteration: 4 : 0.5286238789558411\n",
            "Loss in Iteration: 5 : 0.5918919444084167\n",
            "Loss in Iteration: 6 : 0.5903303623199463\n",
            "Loss in Iteration: 7 : 0.5554271936416626\n",
            "Loss in Iteration: 8 : 0.5700969099998474\n",
            "Loss in Iteration: 9 : 0.5571432113647461\n",
            "Loss in Iteration: 10 : 0.4788370430469513\n",
            "Loss in Iteration: 11 : 0.4109315276145935\n",
            "Loss in Iteration: 12 : 0.2677461504936218\n",
            "Loss in Iteration: 13 : 0.1600886732339859\n",
            "Loss in Iteration: 14 : 0.4433957040309906\n",
            "Loss in Iteration: 15 : 0.2661662697792053\n",
            "Loss in Iteration: 16 : 0.1941206455230713\n",
            "Loss in Iteration: 17 : 0.2724928557872772\n",
            "Loss in Iteration: 18 : 0.3573243021965027\n",
            "Loss in Iteration: 19 : 0.4152309000492096\n",
            "Loss in Iteration: 20 : 0.4888158440589905\n",
            "Loss in Iteration: 21 : 0.2795163691043854\n",
            "Loss in Iteration: 22 : 0.2637743055820465\n",
            "Loss in Iteration: 23 : 0.5651501417160034\n",
            "Loss in Iteration: 24 : 0.28197282552719116\n",
            "Loss in Iteration: 25 : 0.3508361577987671\n",
            "Loss in Iteration: 26 : 0.2626122236251831\n",
            "Loss in Iteration: 27 : 0.3028894364833832\n",
            "Loss in Iteration: 28 : 0.3483123183250427\n",
            "Loss in Iteration: 29 : 0.2079836130142212\n",
            "Loss in Iteration: 30 : 0.5728270411491394\n",
            "Loss in Iteration: 31 : 0.23684726655483246\n",
            "Loss in Iteration: 32 : 0.453570693731308\n",
            "Loss in Iteration: 33 : 0.37982597947120667\n",
            "Loss in Iteration: 34 : 0.4332520067691803\n",
            "Loss in Iteration: 35 : 0.28417232632637024\n",
            "Loss in Iteration: 36 : 0.29596155881881714\n",
            "Loss in Iteration: 37 : 0.12958715856075287\n",
            "Loss in Iteration: 38 : 0.30030378699302673\n",
            "Loss in Iteration: 39 : 0.15806922316551208\n",
            "Loss in Iteration: 40 : 0.4337248206138611\n",
            "Loss in Iteration: 41 : 0.4534764289855957\n",
            "Loss in Iteration: 42 : 0.2704133689403534\n",
            "Loss in Iteration: 43 : 0.33660948276519775\n",
            "Loss in Iteration: 44 : 0.22932790219783783\n",
            "Loss in Iteration: 45 : 0.13640040159225464\n",
            "Loss in Iteration: 46 : 0.29586321115493774\n",
            "Loss in Iteration: 47 : 0.17335063219070435\n",
            "Loss in Iteration: 48 : 0.14694377779960632\n",
            "Loss in Iteration: 49 : 0.24891231954097748\n",
            "Loss in Iteration: 50 : 0.507060706615448\n",
            "Loss in Iteration: 51 : 0.06835626810789108\n",
            "Loss in Iteration: 52 : 0.09134592115879059\n",
            "Loss in Iteration: 53 : 0.2544390857219696\n",
            "Loss in Iteration: 54 : 0.5249664783477783\n",
            "Loss in Iteration: 55 : 0.24314287304878235\n",
            "Loss in Iteration: 56 : 0.2691876292228699\n",
            "Loss in Iteration: 57 : 0.46817025542259216\n",
            "Loss in Iteration: 58 : 0.42698004841804504\n",
            "Loss in Iteration: 59 : 0.28090357780456543\n",
            "Loss in Iteration: 60 : 0.3878391981124878\n",
            "Loss in Iteration: 61 : 0.3662186861038208\n",
            "Loss in Iteration: 62 : 0.3533424139022827\n",
            "Loss in Iteration: 63 : 0.506110429763794\n",
            "Loss in Iteration: 64 : 0.37832480669021606\n",
            "Loss in Iteration: 65 : 0.27233079075813293\n",
            "Loss in Iteration: 66 : 0.5409191250801086\n",
            "Loss in Iteration: 67 : 0.3243359327316284\n",
            "Loss in Iteration: 68 : 0.26468586921691895\n",
            "Loss in Iteration: 69 : 0.36905184388160706\n",
            "Loss in Iteration: 70 : 0.25683069229125977\n",
            "Loss in Iteration: 71 : 0.27834928035736084\n",
            "Loss in Iteration: 72 : 0.3364030420780182\n",
            "Loss in Iteration: 73 : 0.12399258464574814\n",
            "Loss in Iteration: 74 : 0.39264437556266785\n",
            "Loss in Iteration: 75 : 0.07531769573688507\n",
            "Loss in Iteration: 76 : 0.6755590438842773\n",
            "Loss in Iteration: 77 : 0.31557947397232056\n",
            "Loss in Iteration: 78 : 0.31260159611701965\n",
            "Loss in Iteration: 79 : 0.26675945520401\n",
            "Loss in Iteration: 80 : 0.31160205602645874\n",
            "Loss in Iteration: 81 : 0.2982097864151001\n",
            "Loss in Iteration: 82 : 0.26382166147232056\n",
            "Loss in Iteration: 83 : 0.3657974600791931\n",
            "Loss in Iteration: 84 : 0.26120346784591675\n",
            "Loss in Iteration: 85 : 0.3524189293384552\n",
            "Loss in Iteration: 86 : 0.203665092587471\n",
            "Loss in Iteration: 87 : 0.08628365397453308\n",
            "Loss in Iteration: 88 : 0.27678945660591125\n",
            "Loss in Iteration: 89 : 0.24048323929309845\n",
            "Epoch:0  Loss:0.3444259289238188  Acciracy:51.52284240722656%\n",
            "Loss in Iteration: 0 : 0.10258862376213074\n",
            "Loss in Iteration: 1 : 0.20290198922157288\n",
            "Loss in Iteration: 2 : 0.08391153067350388\n",
            "Loss in Iteration: 3 : 0.1965790092945099\n",
            "Loss in Iteration: 4 : 0.301314115524292\n",
            "Loss in Iteration: 5 : 0.4927724003791809\n",
            "Loss in Iteration: 6 : 0.17965346574783325\n",
            "Loss in Iteration: 7 : 0.39711281657218933\n",
            "Loss in Iteration: 8 : 0.1747584193944931\n",
            "Loss in Iteration: 9 : 0.27864354848861694\n",
            "Loss in Iteration: 10 : 0.3323720693588257\n",
            "Loss in Iteration: 11 : 0.21367470920085907\n",
            "Loss in Iteration: 12 : 0.19731830060482025\n",
            "Loss in Iteration: 13 : 0.1875016987323761\n",
            "Loss in Iteration: 14 : 0.3945161998271942\n",
            "Loss in Iteration: 15 : 0.39112263917922974\n",
            "Loss in Iteration: 16 : 0.10748983174562454\n",
            "Loss in Iteration: 17 : 0.24465614557266235\n",
            "Loss in Iteration: 18 : 0.27210643887519836\n",
            "Loss in Iteration: 19 : 0.2229876071214676\n",
            "Loss in Iteration: 20 : 0.22024409472942352\n",
            "Loss in Iteration: 21 : 0.42792442440986633\n",
            "Loss in Iteration: 22 : 0.20671945810317993\n",
            "Loss in Iteration: 23 : 0.24165336787700653\n",
            "Loss in Iteration: 24 : 0.23100923001766205\n",
            "Loss in Iteration: 25 : 0.2873155176639557\n",
            "Loss in Iteration: 26 : 0.25114932656288147\n",
            "Loss in Iteration: 27 : 0.07015585154294968\n",
            "Loss in Iteration: 28 : 0.2400822788476944\n",
            "Loss in Iteration: 29 : 0.3208982050418854\n",
            "Loss in Iteration: 30 : 0.44878843426704407\n",
            "Loss in Iteration: 31 : 0.2825580835342407\n",
            "Loss in Iteration: 32 : 0.4221152067184448\n",
            "Loss in Iteration: 33 : 0.2785104513168335\n",
            "Loss in Iteration: 34 : 0.3284578323364258\n",
            "Loss in Iteration: 35 : 0.32754138112068176\n",
            "Loss in Iteration: 36 : 0.30565863847732544\n",
            "Loss in Iteration: 37 : 0.2024003118276596\n",
            "Loss in Iteration: 38 : 0.20236732065677643\n",
            "Loss in Iteration: 39 : 0.5332382917404175\n",
            "Loss in Iteration: 40 : 0.37624871730804443\n",
            "Loss in Iteration: 41 : 0.16367043554782867\n",
            "Loss in Iteration: 42 : 0.16882659494876862\n",
            "Loss in Iteration: 43 : 0.21918551623821259\n",
            "Loss in Iteration: 44 : 0.2209356725215912\n",
            "Loss in Iteration: 45 : 0.2457936704158783\n",
            "Loss in Iteration: 46 : 0.3335947096347809\n",
            "Loss in Iteration: 47 : 0.3729470372200012\n",
            "Loss in Iteration: 48 : 0.3148667812347412\n",
            "Loss in Iteration: 49 : 0.23647235333919525\n",
            "Loss in Iteration: 50 : 0.24071167409420013\n",
            "Loss in Iteration: 51 : 0.39725905656814575\n",
            "Loss in Iteration: 52 : 0.2206520140171051\n",
            "Loss in Iteration: 53 : 0.1434476673603058\n",
            "Loss in Iteration: 54 : 0.1341324746608734\n",
            "Loss in Iteration: 55 : 0.30809012055397034\n",
            "Loss in Iteration: 56 : 0.6694154143333435\n",
            "Loss in Iteration: 57 : 0.4604438543319702\n",
            "Loss in Iteration: 58 : 0.163218155503273\n",
            "Loss in Iteration: 59 : 0.4080500304698944\n",
            "Loss in Iteration: 60 : 0.21454867720603943\n",
            "Loss in Iteration: 61 : 0.21852929890155792\n",
            "Loss in Iteration: 62 : 0.27599409222602844\n",
            "Loss in Iteration: 63 : 0.16445708274841309\n",
            "Loss in Iteration: 64 : 0.19969193637371063\n",
            "Loss in Iteration: 65 : 0.21123822033405304\n",
            "Loss in Iteration: 66 : 0.24842265248298645\n",
            "Loss in Iteration: 67 : 0.12234536558389664\n",
            "Loss in Iteration: 68 : 0.5020386576652527\n",
            "Loss in Iteration: 69 : 0.24614007771015167\n",
            "Loss in Iteration: 70 : 0.16900892555713654\n",
            "Loss in Iteration: 71 : 0.1297057569026947\n",
            "Loss in Iteration: 72 : 0.3159997761249542\n",
            "Loss in Iteration: 73 : 0.23256359994411469\n",
            "Loss in Iteration: 74 : 0.1802273988723755\n",
            "Loss in Iteration: 75 : 0.18800665438175201\n",
            "Loss in Iteration: 76 : 0.05461500957608223\n",
            "Loss in Iteration: 77 : 0.25456103682518005\n",
            "Loss in Iteration: 78 : 0.2609737813472748\n",
            "Loss in Iteration: 79 : 0.2435281127691269\n",
            "Loss in Iteration: 80 : 0.15914073586463928\n",
            "Loss in Iteration: 81 : 0.2276964783668518\n",
            "Loss in Iteration: 82 : 0.3632938265800476\n",
            "Loss in Iteration: 83 : 0.3470781147480011\n",
            "Loss in Iteration: 84 : 0.17222751677036285\n",
            "Loss in Iteration: 85 : 0.39720067381858826\n",
            "Loss in Iteration: 86 : 0.4466109573841095\n",
            "Loss in Iteration: 87 : 0.21985918283462524\n",
            "Loss in Iteration: 88 : 0.19153527915477753\n",
            "Loss in Iteration: 89 : 0.2560751736164093\n",
            "Epoch:1  Loss:0.2646005029893584  Acciracy:49.23857879638672%\n",
            "Loss in Iteration: 0 : 0.19109967350959778\n",
            "Loss in Iteration: 1 : 0.1270374208688736\n",
            "Loss in Iteration: 2 : 0.28922662138938904\n",
            "Loss in Iteration: 3 : 0.19500568509101868\n",
            "Loss in Iteration: 4 : 0.3359393775463104\n",
            "Loss in Iteration: 5 : 0.2027261108160019\n",
            "Loss in Iteration: 6 : 0.13998165726661682\n",
            "Loss in Iteration: 7 : 0.18194742500782013\n",
            "Loss in Iteration: 8 : 0.2499132752418518\n",
            "Loss in Iteration: 9 : 0.15466240048408508\n",
            "Loss in Iteration: 10 : 0.18375371396541595\n",
            "Loss in Iteration: 11 : 0.2822743058204651\n",
            "Loss in Iteration: 12 : 0.22746685147285461\n",
            "Loss in Iteration: 13 : 0.12308788299560547\n",
            "Loss in Iteration: 14 : 0.3075740337371826\n",
            "Loss in Iteration: 15 : 0.17885929346084595\n",
            "Loss in Iteration: 16 : 0.3154744505882263\n",
            "Loss in Iteration: 17 : 0.087362140417099\n",
            "Loss in Iteration: 18 : 0.24947285652160645\n",
            "Loss in Iteration: 19 : 0.2330974042415619\n",
            "Loss in Iteration: 20 : 0.4121902585029602\n",
            "Loss in Iteration: 21 : 0.3845898509025574\n",
            "Loss in Iteration: 22 : 0.3191060423851013\n",
            "Loss in Iteration: 23 : 0.2711043059825897\n",
            "Loss in Iteration: 24 : 0.147085040807724\n",
            "Loss in Iteration: 25 : 0.455468088388443\n",
            "Loss in Iteration: 26 : 0.07917647808790207\n",
            "Loss in Iteration: 27 : 0.17863324284553528\n",
            "Loss in Iteration: 28 : 0.35024145245552063\n",
            "Loss in Iteration: 29 : 0.17253674566745758\n",
            "Loss in Iteration: 30 : 0.09962470084428787\n",
            "Loss in Iteration: 31 : 0.22067473828792572\n",
            "Loss in Iteration: 32 : 0.10788930207490921\n",
            "Loss in Iteration: 33 : 0.2379874438047409\n",
            "Loss in Iteration: 34 : 0.058828335255384445\n",
            "Loss in Iteration: 35 : 0.16887801885604858\n",
            "Loss in Iteration: 36 : 0.12033532559871674\n",
            "Loss in Iteration: 37 : 0.44451606273651123\n",
            "Loss in Iteration: 38 : 0.25815829634666443\n",
            "Loss in Iteration: 39 : 0.28360503911972046\n",
            "Loss in Iteration: 40 : 0.1185680478811264\n",
            "Loss in Iteration: 41 : 0.29283764958381653\n",
            "Loss in Iteration: 42 : 0.21393778920173645\n",
            "Loss in Iteration: 43 : 0.345202773809433\n",
            "Loss in Iteration: 44 : 0.1658511906862259\n",
            "Loss in Iteration: 45 : 0.18790361285209656\n",
            "Loss in Iteration: 46 : 0.11851409822702408\n",
            "Loss in Iteration: 47 : 0.16068033874034882\n",
            "Loss in Iteration: 48 : 0.15089881420135498\n",
            "Loss in Iteration: 49 : 0.23878002166748047\n",
            "Loss in Iteration: 50 : 0.1801225244998932\n",
            "Loss in Iteration: 51 : 0.08380410820245743\n",
            "Loss in Iteration: 52 : 0.10682422667741776\n",
            "Loss in Iteration: 53 : 0.09861969947814941\n",
            "Loss in Iteration: 54 : 0.25204262137413025\n",
            "Loss in Iteration: 55 : 0.12459753453731537\n",
            "Loss in Iteration: 56 : 0.09732180833816528\n",
            "Loss in Iteration: 57 : 0.1357230544090271\n",
            "Loss in Iteration: 58 : 0.11993655562400818\n",
            "Loss in Iteration: 59 : 0.11542029678821564\n",
            "Loss in Iteration: 60 : 0.3495160639286041\n",
            "Loss in Iteration: 61 : 0.2775508165359497\n",
            "Loss in Iteration: 62 : 0.32448887825012207\n",
            "Loss in Iteration: 63 : 0.5022575855255127\n",
            "Loss in Iteration: 64 : 0.27783527970314026\n",
            "Loss in Iteration: 65 : 0.2699861228466034\n",
            "Loss in Iteration: 66 : 0.10227883607149124\n",
            "Loss in Iteration: 67 : 0.13651321828365326\n",
            "Loss in Iteration: 68 : 0.046948909759521484\n",
            "Loss in Iteration: 69 : 0.10776934027671814\n",
            "Loss in Iteration: 70 : 0.3198906481266022\n",
            "Loss in Iteration: 71 : 0.11516007035970688\n",
            "Loss in Iteration: 72 : 0.35922175645828247\n",
            "Loss in Iteration: 73 : 0.2521767318248749\n",
            "Loss in Iteration: 74 : 0.1412390023469925\n",
            "Loss in Iteration: 75 : 0.1959063857793808\n",
            "Loss in Iteration: 76 : 0.37186819314956665\n",
            "Loss in Iteration: 77 : 0.22063058614730835\n",
            "Loss in Iteration: 78 : 0.42010897397994995\n",
            "Loss in Iteration: 79 : 0.27880504727363586\n",
            "Loss in Iteration: 80 : 0.26942503452301025\n",
            "Loss in Iteration: 81 : 0.16637468338012695\n",
            "Loss in Iteration: 82 : 0.18717974424362183\n",
            "Loss in Iteration: 83 : 0.20739659667015076\n",
            "Loss in Iteration: 84 : 0.43425318598747253\n",
            "Loss in Iteration: 85 : 0.16162654757499695\n",
            "Loss in Iteration: 86 : 0.34298205375671387\n",
            "Loss in Iteration: 87 : 0.2438221275806427\n",
            "Loss in Iteration: 88 : 0.16170963644981384\n",
            "Loss in Iteration: 89 : 0.09423952549695969\n",
            "Epoch:2  Loss:0.2185926633162631  Acciracy:62.94416427612305%\n",
            "Loss in Iteration: 0 : 0.08907347172498703\n",
            "Loss in Iteration: 1 : 0.11319763213396072\n",
            "Loss in Iteration: 2 : 0.09299462288618088\n",
            "Loss in Iteration: 3 : 0.23485328257083893\n",
            "Loss in Iteration: 4 : 0.4844541549682617\n",
            "Loss in Iteration: 5 : 0.03879799693822861\n",
            "Loss in Iteration: 6 : 0.21988947689533234\n",
            "Loss in Iteration: 7 : 0.160955011844635\n",
            "Loss in Iteration: 8 : 0.2642606198787689\n",
            "Loss in Iteration: 9 : 0.27477437257766724\n",
            "Loss in Iteration: 10 : 0.13684724271297455\n",
            "Loss in Iteration: 11 : 0.10687591135501862\n",
            "Loss in Iteration: 12 : 0.11518201231956482\n",
            "Loss in Iteration: 13 : 0.0531306155025959\n",
            "Loss in Iteration: 14 : 0.3654979467391968\n",
            "Loss in Iteration: 15 : 0.1572527438402176\n",
            "Loss in Iteration: 16 : 0.3505505919456482\n",
            "Loss in Iteration: 17 : 0.1845373511314392\n",
            "Loss in Iteration: 18 : 0.3607896566390991\n",
            "Loss in Iteration: 19 : 0.2512803077697754\n",
            "Loss in Iteration: 20 : 0.3721236288547516\n",
            "Loss in Iteration: 21 : 0.28138867020606995\n",
            "Loss in Iteration: 22 : 0.273655503988266\n",
            "Loss in Iteration: 23 : 0.22057530283927917\n",
            "Loss in Iteration: 24 : 0.15681542456150055\n",
            "Loss in Iteration: 25 : 0.22225522994995117\n",
            "Loss in Iteration: 26 : 0.13957083225250244\n",
            "Loss in Iteration: 27 : 0.48446035385131836\n",
            "Loss in Iteration: 28 : 0.4073769748210907\n",
            "Loss in Iteration: 29 : 0.13162657618522644\n",
            "Loss in Iteration: 30 : 0.32805511355400085\n",
            "Loss in Iteration: 31 : 0.14968931674957275\n",
            "Loss in Iteration: 32 : 0.27170681953430176\n",
            "Loss in Iteration: 33 : 0.14443565905094147\n",
            "Loss in Iteration: 34 : 0.23871590197086334\n",
            "Loss in Iteration: 35 : 0.26810377836227417\n",
            "Loss in Iteration: 36 : 0.22780627012252808\n",
            "Loss in Iteration: 37 : 0.2566952109336853\n",
            "Loss in Iteration: 38 : 0.26200294494628906\n",
            "Loss in Iteration: 39 : 0.14442776143550873\n",
            "Loss in Iteration: 40 : 0.31905877590179443\n",
            "Loss in Iteration: 41 : 0.16818326711654663\n",
            "Loss in Iteration: 42 : 0.20879967510700226\n",
            "Loss in Iteration: 43 : 0.1650383621454239\n",
            "Loss in Iteration: 44 : 0.12872914969921112\n",
            "Loss in Iteration: 45 : 0.32839494943618774\n",
            "Loss in Iteration: 46 : 0.12469440698623657\n",
            "Loss in Iteration: 47 : 0.13661137223243713\n",
            "Loss in Iteration: 48 : 0.16094259917736053\n",
            "Loss in Iteration: 49 : 0.09657718241214752\n",
            "Loss in Iteration: 50 : 0.17171746492385864\n",
            "Loss in Iteration: 51 : 0.3031946122646332\n",
            "Loss in Iteration: 52 : 0.6143702864646912\n",
            "Loss in Iteration: 53 : 0.08277733623981476\n",
            "Loss in Iteration: 54 : 0.24753278493881226\n",
            "Loss in Iteration: 55 : 0.26723501086235046\n",
            "Loss in Iteration: 56 : 0.1499006599187851\n",
            "Loss in Iteration: 57 : 0.27837926149368286\n",
            "Loss in Iteration: 58 : 0.1644814908504486\n",
            "Loss in Iteration: 59 : 0.2830607295036316\n",
            "Loss in Iteration: 60 : 0.11100547015666962\n",
            "Loss in Iteration: 61 : 0.19873172044754028\n",
            "Loss in Iteration: 62 : 0.300144225358963\n",
            "Loss in Iteration: 63 : 0.24987463653087616\n",
            "Loss in Iteration: 64 : 0.1090315654873848\n",
            "Loss in Iteration: 65 : 0.3053622841835022\n",
            "Loss in Iteration: 66 : 0.14647378027439117\n",
            "Loss in Iteration: 67 : 0.3780862092971802\n",
            "Loss in Iteration: 68 : 0.14218614995479584\n",
            "Loss in Iteration: 69 : 0.2687133550643921\n",
            "Loss in Iteration: 70 : 0.2607942819595337\n",
            "Loss in Iteration: 71 : 0.18449153006076813\n",
            "Loss in Iteration: 72 : 0.13672733306884766\n",
            "Loss in Iteration: 73 : 0.33472922444343567\n",
            "Loss in Iteration: 74 : 0.21619433164596558\n",
            "Loss in Iteration: 75 : 0.18410545587539673\n",
            "Loss in Iteration: 76 : 0.19089089334011078\n",
            "Loss in Iteration: 77 : 0.11573538184165955\n",
            "Loss in Iteration: 78 : 0.1796417087316513\n",
            "Loss in Iteration: 79 : 0.23722122609615326\n",
            "Loss in Iteration: 80 : 0.348294198513031\n",
            "Loss in Iteration: 81 : 0.04431361332535744\n",
            "Loss in Iteration: 82 : 0.19980359077453613\n",
            "Loss in Iteration: 83 : 0.37802639603614807\n",
            "Loss in Iteration: 84 : 0.06369253247976303\n",
            "Loss in Iteration: 85 : 0.13508693873882294\n",
            "Loss in Iteration: 86 : 0.15097078680992126\n",
            "Loss in Iteration: 87 : 0.24721898138523102\n",
            "Loss in Iteration: 88 : 0.17273329198360443\n",
            "Loss in Iteration: 89 : 0.20539897680282593\n",
            "Epoch:3  Loss:0.2181337971654203  Acciracy:52.284263610839844%\n",
            "Loss in Iteration: 0 : 0.06072952598333359\n",
            "Loss in Iteration: 1 : 0.17216217517852783\n",
            "Loss in Iteration: 2 : 0.04544605314731598\n",
            "Loss in Iteration: 3 : 0.16582295298576355\n",
            "Loss in Iteration: 4 : 0.30877771973609924\n",
            "Loss in Iteration: 5 : 0.6219925880432129\n",
            "Loss in Iteration: 6 : 0.18947868049144745\n",
            "Loss in Iteration: 7 : 0.2638222873210907\n",
            "Loss in Iteration: 8 : 0.2552620470523834\n",
            "Loss in Iteration: 9 : 0.09040190279483795\n",
            "Loss in Iteration: 10 : 0.2613840103149414\n",
            "Loss in Iteration: 11 : 0.20066800713539124\n",
            "Loss in Iteration: 12 : 0.2475079894065857\n",
            "Loss in Iteration: 13 : 0.07297009974718094\n",
            "Loss in Iteration: 14 : 0.3619810938835144\n",
            "Loss in Iteration: 15 : 0.033403150737285614\n",
            "Loss in Iteration: 16 : 0.22153864800930023\n",
            "Loss in Iteration: 17 : 0.2777489125728607\n",
            "Loss in Iteration: 18 : 0.11182409524917603\n",
            "Loss in Iteration: 19 : 0.16821327805519104\n",
            "Loss in Iteration: 20 : 0.1909063309431076\n",
            "Loss in Iteration: 21 : 0.20320159196853638\n",
            "Loss in Iteration: 22 : 0.09001439064741135\n",
            "Loss in Iteration: 23 : 0.19143538177013397\n",
            "Loss in Iteration: 24 : 0.16408002376556396\n",
            "Loss in Iteration: 25 : 0.08106406033039093\n",
            "Loss in Iteration: 26 : 0.10577390342950821\n",
            "Loss in Iteration: 27 : 0.2206166684627533\n",
            "Loss in Iteration: 28 : 0.2525121569633484\n",
            "Loss in Iteration: 29 : 0.2575034201145172\n",
            "Loss in Iteration: 30 : 0.10130494087934494\n",
            "Loss in Iteration: 31 : 0.23818084597587585\n",
            "Loss in Iteration: 32 : 0.1252446323633194\n",
            "Loss in Iteration: 33 : 0.03490229696035385\n",
            "Loss in Iteration: 34 : 0.059581365436315536\n",
            "Loss in Iteration: 35 : 0.1145351454615593\n",
            "Loss in Iteration: 36 : 0.14571857452392578\n",
            "Loss in Iteration: 37 : 0.08700677752494812\n",
            "Loss in Iteration: 38 : 0.12915657460689545\n",
            "Loss in Iteration: 39 : 0.11366377770900726\n",
            "Loss in Iteration: 40 : 0.10008871555328369\n",
            "Loss in Iteration: 41 : 0.22234611213207245\n",
            "Loss in Iteration: 42 : 0.33762794733047485\n",
            "Loss in Iteration: 43 : 0.1771436184644699\n",
            "Loss in Iteration: 44 : 0.2744278013706207\n",
            "Loss in Iteration: 45 : 0.1707065999507904\n",
            "Loss in Iteration: 46 : 0.09999026358127594\n",
            "Loss in Iteration: 47 : 0.09113147109746933\n",
            "Loss in Iteration: 48 : 0.19202277064323425\n",
            "Loss in Iteration: 49 : 0.2734837830066681\n",
            "Loss in Iteration: 50 : 0.20444904267787933\n",
            "Loss in Iteration: 51 : 0.3807065486907959\n",
            "Loss in Iteration: 52 : 0.19378235936164856\n",
            "Loss in Iteration: 53 : 0.15364523231983185\n",
            "Loss in Iteration: 54 : 0.2959977984428406\n",
            "Loss in Iteration: 55 : 0.1044246107339859\n",
            "Loss in Iteration: 56 : 0.10490235686302185\n",
            "Loss in Iteration: 57 : 0.24008682370185852\n",
            "Loss in Iteration: 58 : 0.0936787873506546\n",
            "Loss in Iteration: 59 : 0.14855223894119263\n",
            "Loss in Iteration: 60 : 0.2706632614135742\n",
            "Loss in Iteration: 61 : 0.16462287306785583\n",
            "Loss in Iteration: 62 : 0.18265143036842346\n",
            "Loss in Iteration: 63 : 0.2178272157907486\n",
            "Loss in Iteration: 64 : 0.27257633209228516\n",
            "Loss in Iteration: 65 : 0.1838420331478119\n",
            "Loss in Iteration: 66 : 0.029087621718645096\n",
            "Loss in Iteration: 67 : 0.18060751259326935\n",
            "Loss in Iteration: 68 : 0.08271988481283188\n",
            "Loss in Iteration: 69 : 0.2286706119775772\n",
            "Loss in Iteration: 70 : 0.10016823559999466\n",
            "Loss in Iteration: 71 : 0.103620745241642\n",
            "Loss in Iteration: 72 : 0.16476087272167206\n",
            "Loss in Iteration: 73 : 0.11252457648515701\n",
            "Loss in Iteration: 74 : 0.21750669181346893\n",
            "Loss in Iteration: 75 : 0.2079313099384308\n",
            "Loss in Iteration: 76 : 0.19742536544799805\n",
            "Loss in Iteration: 77 : 0.20103083550930023\n",
            "Loss in Iteration: 78 : 0.09749076515436172\n",
            "Loss in Iteration: 79 : 0.05115949362516403\n",
            "Loss in Iteration: 80 : 0.032468121498823166\n",
            "Loss in Iteration: 81 : 0.13076718151569366\n",
            "Loss in Iteration: 82 : 0.168302983045578\n",
            "Loss in Iteration: 83 : 0.11369194090366364\n",
            "Loss in Iteration: 84 : 0.11966968327760696\n",
            "Loss in Iteration: 85 : 0.0836641788482666\n",
            "Loss in Iteration: 86 : 0.15405356884002686\n",
            "Loss in Iteration: 87 : 0.058322105556726456\n",
            "Loss in Iteration: 88 : 0.05980771780014038\n",
            "Loss in Iteration: 89 : 0.15560518205165863\n",
            "Epoch:4  Loss:0.16933303657505247  Acciracy:72.84263610839844%\n",
            "Loss in Iteration: 0 : 0.025604190304875374\n",
            "Loss in Iteration: 1 : 0.06417393684387207\n",
            "Loss in Iteration: 2 : 0.08837368339300156\n",
            "Loss in Iteration: 3 : 0.0030089986976236105\n",
            "Loss in Iteration: 4 : 0.027009183540940285\n",
            "Loss in Iteration: 5 : 0.1744288206100464\n",
            "Loss in Iteration: 6 : 0.206773042678833\n",
            "Loss in Iteration: 7 : 0.14377084374427795\n",
            "Loss in Iteration: 8 : 0.07287141680717468\n",
            "Loss in Iteration: 9 : 0.6542001366615295\n",
            "Loss in Iteration: 10 : 0.18520741164684296\n",
            "Loss in Iteration: 11 : 0.10168326646089554\n",
            "Loss in Iteration: 12 : 0.08554920554161072\n",
            "Loss in Iteration: 13 : 0.305879682302475\n",
            "Loss in Iteration: 14 : 0.07307414710521698\n",
            "Loss in Iteration: 15 : 0.25206005573272705\n",
            "Loss in Iteration: 16 : 0.013934054411947727\n",
            "Loss in Iteration: 17 : 0.18314482271671295\n",
            "Loss in Iteration: 18 : 0.13351407647132874\n",
            "Loss in Iteration: 19 : 0.28559091687202454\n",
            "Loss in Iteration: 20 : 0.09444265067577362\n",
            "Loss in Iteration: 21 : 0.23684392869472504\n",
            "Loss in Iteration: 22 : 0.13168780505657196\n",
            "Loss in Iteration: 23 : 0.2812492251396179\n",
            "Loss in Iteration: 24 : 0.23936456441879272\n",
            "Loss in Iteration: 25 : 0.2053236961364746\n",
            "Loss in Iteration: 26 : 0.04668886959552765\n",
            "Loss in Iteration: 27 : 0.16179443895816803\n",
            "Loss in Iteration: 28 : 0.1314993053674698\n",
            "Loss in Iteration: 29 : 0.28226789832115173\n",
            "Loss in Iteration: 30 : 0.18870721757411957\n",
            "Loss in Iteration: 31 : 0.22726194560527802\n",
            "Loss in Iteration: 32 : 0.2091902494430542\n",
            "Loss in Iteration: 33 : 0.222977414727211\n",
            "Loss in Iteration: 34 : 0.15623222291469574\n",
            "Loss in Iteration: 35 : 0.143631711602211\n",
            "Loss in Iteration: 36 : 0.06338232755661011\n",
            "Loss in Iteration: 37 : 0.1305106282234192\n",
            "Loss in Iteration: 38 : 0.15450984239578247\n",
            "Loss in Iteration: 39 : 0.12139812111854553\n",
            "Loss in Iteration: 40 : 0.08161740005016327\n",
            "Loss in Iteration: 41 : 0.014713762328028679\n",
            "Loss in Iteration: 42 : 0.1686810851097107\n",
            "Loss in Iteration: 43 : 0.2495604157447815\n",
            "Loss in Iteration: 44 : 0.15841048955917358\n",
            "Loss in Iteration: 45 : 0.38684481382369995\n",
            "Loss in Iteration: 46 : 0.05621904507279396\n",
            "Loss in Iteration: 47 : 0.17140057682991028\n",
            "Loss in Iteration: 48 : 0.06870239228010178\n",
            "Loss in Iteration: 49 : 0.2561817467212677\n",
            "Loss in Iteration: 50 : 0.1025577038526535\n",
            "Loss in Iteration: 51 : 0.17292164266109467\n",
            "Loss in Iteration: 52 : 0.3162996470928192\n",
            "Loss in Iteration: 53 : 0.2222967892885208\n",
            "Loss in Iteration: 54 : 0.04443811997771263\n",
            "Loss in Iteration: 55 : 0.15745426714420319\n",
            "Loss in Iteration: 56 : 0.06360233575105667\n",
            "Loss in Iteration: 57 : 0.2773670256137848\n",
            "Loss in Iteration: 58 : 0.1299487054347992\n",
            "Loss in Iteration: 59 : 0.08849302679300308\n",
            "Loss in Iteration: 60 : 0.1582932472229004\n",
            "Loss in Iteration: 61 : 0.16216453909873962\n",
            "Loss in Iteration: 62 : 0.06586860865354538\n",
            "Loss in Iteration: 63 : 0.2930142283439636\n",
            "Loss in Iteration: 64 : 0.257705420255661\n",
            "Loss in Iteration: 65 : 0.12068337202072144\n",
            "Loss in Iteration: 66 : 0.1989353895187378\n",
            "Loss in Iteration: 67 : 0.2040732204914093\n",
            "Loss in Iteration: 68 : 0.04881231114268303\n",
            "Loss in Iteration: 69 : 0.1212330237030983\n",
            "Loss in Iteration: 70 : 0.13824036717414856\n",
            "Loss in Iteration: 71 : 0.24242977797985077\n",
            "Loss in Iteration: 72 : 0.10564453899860382\n",
            "Loss in Iteration: 73 : 0.08614161610603333\n",
            "Loss in Iteration: 74 : 0.08739137649536133\n",
            "Loss in Iteration: 75 : 0.18837308883666992\n",
            "Loss in Iteration: 76 : 0.08688937872648239\n",
            "Loss in Iteration: 77 : 0.09087298810482025\n",
            "Loss in Iteration: 78 : 0.1807464361190796\n",
            "Loss in Iteration: 79 : 0.26846811175346375\n",
            "Loss in Iteration: 80 : 0.13498899340629578\n",
            "Loss in Iteration: 81 : 0.2511709928512573\n",
            "Loss in Iteration: 82 : 0.11261395364999771\n",
            "Loss in Iteration: 83 : 0.36027097702026367\n",
            "Loss in Iteration: 84 : 0.2236768901348114\n",
            "Loss in Iteration: 85 : 0.1647571474313736\n",
            "Loss in Iteration: 86 : 0.2743719220161438\n",
            "Loss in Iteration: 87 : 0.14197708666324615\n",
            "Loss in Iteration: 88 : 0.04688343033194542\n",
            "Loss in Iteration: 89 : 0.2590287923812866\n",
            "Epoch:5  Loss:0.16413609082034478  Acciracy:74.365478515625%\n",
            "Loss in Iteration: 0 : 0.2450229823589325\n",
            "Loss in Iteration: 1 : 0.32431188225746155\n",
            "Loss in Iteration: 2 : 0.01830105111002922\n",
            "Loss in Iteration: 3 : 0.05794798582792282\n",
            "Loss in Iteration: 4 : 0.18249887228012085\n",
            "Loss in Iteration: 5 : 0.12362273037433624\n",
            "Loss in Iteration: 6 : 0.220061257481575\n",
            "Loss in Iteration: 7 : 0.13296915590763092\n",
            "Loss in Iteration: 8 : 0.2369520366191864\n",
            "Loss in Iteration: 9 : 0.2178409993648529\n",
            "Loss in Iteration: 10 : 0.27729037404060364\n",
            "Loss in Iteration: 11 : 0.18501020967960358\n",
            "Loss in Iteration: 12 : 0.07393423467874527\n",
            "Loss in Iteration: 13 : 0.15986670553684235\n",
            "Loss in Iteration: 14 : 0.30218684673309326\n",
            "Loss in Iteration: 15 : 0.2262568324804306\n",
            "Loss in Iteration: 16 : 0.0722227618098259\n",
            "Loss in Iteration: 17 : 0.1749027818441391\n",
            "Loss in Iteration: 18 : 0.10868782550096512\n",
            "Loss in Iteration: 19 : 0.18860948085784912\n",
            "Loss in Iteration: 20 : 0.054933954030275345\n",
            "Loss in Iteration: 21 : 0.13940368592739105\n",
            "Loss in Iteration: 22 : 0.018664633855223656\n",
            "Loss in Iteration: 23 : 0.20596173405647278\n",
            "Loss in Iteration: 24 : 0.12012609839439392\n",
            "Loss in Iteration: 25 : 0.2472861111164093\n",
            "Loss in Iteration: 26 : 0.09160663187503815\n",
            "Loss in Iteration: 27 : 0.1481926590204239\n",
            "Loss in Iteration: 28 : 0.04505270719528198\n",
            "Loss in Iteration: 29 : 0.04856737330555916\n",
            "Loss in Iteration: 30 : 0.24702158570289612\n",
            "Loss in Iteration: 31 : 0.02351372316479683\n",
            "Loss in Iteration: 32 : 0.09910692274570465\n",
            "Loss in Iteration: 33 : 0.1798839569091797\n",
            "Loss in Iteration: 34 : 0.17516471445560455\n",
            "Loss in Iteration: 35 : 0.09281904250383377\n",
            "Loss in Iteration: 36 : 0.11143064498901367\n",
            "Loss in Iteration: 37 : 0.01483860518783331\n",
            "Loss in Iteration: 38 : 0.12621736526489258\n",
            "Loss in Iteration: 39 : 0.0627909004688263\n",
            "Loss in Iteration: 40 : 0.01836645044386387\n",
            "Loss in Iteration: 41 : 0.21672318875789642\n",
            "Loss in Iteration: 42 : 0.08845052868127823\n",
            "Loss in Iteration: 43 : 0.003743920475244522\n",
            "Loss in Iteration: 44 : 0.3504650890827179\n",
            "Loss in Iteration: 45 : 0.21494588255882263\n",
            "Loss in Iteration: 46 : 0.15697555243968964\n",
            "Loss in Iteration: 47 : 0.1588398963212967\n",
            "Loss in Iteration: 48 : 0.059149205684661865\n",
            "Loss in Iteration: 49 : 0.2601366639137268\n",
            "Loss in Iteration: 50 : 0.15069687366485596\n",
            "Loss in Iteration: 51 : 0.2605847418308258\n",
            "Loss in Iteration: 52 : 0.04389790818095207\n",
            "Loss in Iteration: 53 : 0.1507614105939865\n",
            "Loss in Iteration: 54 : 0.09723291546106339\n",
            "Loss in Iteration: 55 : 0.07920398563146591\n",
            "Loss in Iteration: 56 : 0.10040479153394699\n",
            "Loss in Iteration: 57 : 0.1391427218914032\n",
            "Loss in Iteration: 58 : 0.06786952912807465\n",
            "Loss in Iteration: 59 : 0.11536994576454163\n",
            "Loss in Iteration: 60 : 0.01152113452553749\n",
            "Loss in Iteration: 61 : 0.27574992179870605\n",
            "Loss in Iteration: 62 : 0.011084545403718948\n",
            "Loss in Iteration: 63 : 0.07978235185146332\n",
            "Loss in Iteration: 64 : 0.23283617198467255\n",
            "Loss in Iteration: 65 : 0.00896366499364376\n",
            "Loss in Iteration: 66 : 0.053488921374082565\n",
            "Loss in Iteration: 67 : 0.27205806970596313\n",
            "Loss in Iteration: 68 : 0.025279942899942398\n",
            "Loss in Iteration: 69 : 0.11229953169822693\n",
            "Loss in Iteration: 70 : 0.09593924134969711\n",
            "Loss in Iteration: 71 : 0.12249203771352768\n",
            "Loss in Iteration: 72 : 0.12022318691015244\n",
            "Loss in Iteration: 73 : 0.09613202512264252\n",
            "Loss in Iteration: 74 : 0.07988264411687851\n",
            "Loss in Iteration: 75 : 0.0682440921664238\n",
            "Loss in Iteration: 76 : 0.21618309617042542\n",
            "Loss in Iteration: 77 : 0.09599395096302032\n",
            "Loss in Iteration: 78 : 0.10051247477531433\n",
            "Loss in Iteration: 79 : 0.2654615044593811\n",
            "Loss in Iteration: 80 : 0.12870968878269196\n",
            "Loss in Iteration: 81 : 0.14177949726581573\n",
            "Loss in Iteration: 82 : 0.1217665895819664\n",
            "Loss in Iteration: 83 : 0.05876623094081879\n",
            "Loss in Iteration: 84 : 0.06232485547661781\n",
            "Loss in Iteration: 85 : 0.11668790876865387\n",
            "Loss in Iteration: 86 : 0.0804876834154129\n",
            "Loss in Iteration: 87 : 0.03706454485654831\n",
            "Loss in Iteration: 88 : 0.2611750066280365\n",
            "Loss in Iteration: 89 : 0.17464442551136017\n",
            "Epoch:6  Loss:0.13379529111294283  Acciracy:74.6192855834961%\n",
            "Loss in Iteration: 0 : 0.06551624089479446\n",
            "Loss in Iteration: 1 : 0.09809280931949615\n",
            "Loss in Iteration: 2 : 0.1553996354341507\n",
            "Loss in Iteration: 3 : 0.13268058001995087\n",
            "Loss in Iteration: 4 : 0.1695178747177124\n",
            "Loss in Iteration: 5 : 0.11518791317939758\n",
            "Loss in Iteration: 6 : 0.05045490339398384\n",
            "Loss in Iteration: 7 : 0.0823560282588005\n",
            "Loss in Iteration: 8 : 0.41294628381729126\n",
            "Loss in Iteration: 9 : 0.743833065032959\n",
            "Loss in Iteration: 10 : 0.07020789384841919\n",
            "Loss in Iteration: 11 : 0.03101932443678379\n",
            "Loss in Iteration: 12 : 0.08176819235086441\n",
            "Loss in Iteration: 13 : 0.09955915063619614\n",
            "Loss in Iteration: 14 : 0.2130509614944458\n",
            "Loss in Iteration: 15 : 0.17404396831989288\n",
            "Loss in Iteration: 16 : 0.1251477301120758\n",
            "Loss in Iteration: 17 : 0.08059413731098175\n",
            "Loss in Iteration: 18 : 0.1135575994849205\n",
            "Loss in Iteration: 19 : 0.10089224576950073\n",
            "Loss in Iteration: 20 : 0.10047069936990738\n",
            "Loss in Iteration: 21 : 0.16648925840854645\n",
            "Loss in Iteration: 22 : 0.0219926368445158\n",
            "Loss in Iteration: 23 : 0.11755914241075516\n",
            "Loss in Iteration: 24 : 0.03422655165195465\n",
            "Loss in Iteration: 25 : 0.061474207788705826\n",
            "Loss in Iteration: 26 : 0.09738025069236755\n",
            "Loss in Iteration: 27 : 0.211451455950737\n",
            "Loss in Iteration: 28 : 0.19371919333934784\n",
            "Loss in Iteration: 29 : 0.05351843312382698\n",
            "Loss in Iteration: 30 : 0.07555073499679565\n",
            "Loss in Iteration: 31 : 0.05643825978040695\n",
            "Loss in Iteration: 32 : 0.12222876399755478\n",
            "Loss in Iteration: 33 : 0.07643809169530869\n",
            "Loss in Iteration: 34 : 0.11772226542234421\n",
            "Loss in Iteration: 35 : 0.23832285404205322\n",
            "Loss in Iteration: 36 : 0.16832521557807922\n",
            "Loss in Iteration: 37 : 0.02661541849374771\n",
            "Loss in Iteration: 38 : 0.0517394132912159\n",
            "Loss in Iteration: 39 : 0.030629336833953857\n",
            "Loss in Iteration: 40 : 0.0803489163517952\n",
            "Loss in Iteration: 41 : 0.2112502008676529\n",
            "Loss in Iteration: 42 : 0.049175821244716644\n",
            "Loss in Iteration: 43 : 0.15780842304229736\n",
            "Loss in Iteration: 44 : 0.22207748889923096\n",
            "Loss in Iteration: 45 : 0.08380205184221268\n",
            "Loss in Iteration: 46 : 0.18470628559589386\n",
            "Loss in Iteration: 47 : 0.0400824248790741\n",
            "Loss in Iteration: 48 : 0.11863779276609421\n",
            "Loss in Iteration: 49 : 0.09105135500431061\n",
            "Loss in Iteration: 50 : 0.10821619629859924\n",
            "Loss in Iteration: 51 : 0.2165059596300125\n",
            "Loss in Iteration: 52 : 0.18258142471313477\n",
            "Loss in Iteration: 53 : 0.08849728107452393\n",
            "Loss in Iteration: 54 : 0.043937936425209045\n",
            "Loss in Iteration: 55 : 0.10456305742263794\n",
            "Loss in Iteration: 56 : 0.15687157213687897\n",
            "Loss in Iteration: 57 : 0.2768649160861969\n",
            "Loss in Iteration: 58 : 0.6750280857086182\n",
            "Loss in Iteration: 59 : 0.15687452256679535\n",
            "Loss in Iteration: 60 : 0.1993303894996643\n",
            "Loss in Iteration: 61 : 0.25923389196395874\n",
            "Loss in Iteration: 62 : 0.2645529508590698\n",
            "Loss in Iteration: 63 : 0.1443626582622528\n",
            "Loss in Iteration: 64 : 0.1622239500284195\n",
            "Loss in Iteration: 65 : 0.19491907954216003\n",
            "Loss in Iteration: 66 : 0.2541876435279846\n",
            "Loss in Iteration: 67 : 0.11090657860040665\n",
            "Loss in Iteration: 68 : 0.21000836789608002\n",
            "Loss in Iteration: 69 : 0.09600202739238739\n",
            "Loss in Iteration: 70 : 0.32383716106414795\n",
            "Loss in Iteration: 71 : 0.11040550470352173\n",
            "Loss in Iteration: 72 : 0.036128271371126175\n",
            "Loss in Iteration: 73 : 0.10684847831726074\n",
            "Loss in Iteration: 74 : 0.11826031655073166\n",
            "Loss in Iteration: 75 : 0.10807172954082489\n",
            "Loss in Iteration: 76 : 0.07942558825016022\n",
            "Loss in Iteration: 77 : 0.06606616824865341\n",
            "Loss in Iteration: 78 : 0.10494363307952881\n",
            "Loss in Iteration: 79 : 0.058845117688179016\n",
            "Loss in Iteration: 80 : 0.12381703406572342\n",
            "Loss in Iteration: 81 : 0.13256624341011047\n",
            "Loss in Iteration: 82 : 0.1429075449705124\n",
            "Loss in Iteration: 83 : 0.041993312537670135\n",
            "Loss in Iteration: 84 : 0.03485311567783356\n",
            "Loss in Iteration: 85 : 0.02589702047407627\n",
            "Loss in Iteration: 86 : 0.11964241415262222\n",
            "Loss in Iteration: 87 : 0.0697464719414711\n",
            "Loss in Iteration: 88 : 0.035426065325737\n",
            "Loss in Iteration: 89 : 0.01720595359802246\n",
            "Epoch:7  Loss:0.1348846124071214  Acciracy:76.14213562011719%\n",
            "Loss in Iteration: 0 : 0.030576292425394058\n",
            "Loss in Iteration: 1 : 0.10043570399284363\n",
            "Loss in Iteration: 2 : 0.06335118412971497\n",
            "Loss in Iteration: 3 : 0.003920357674360275\n",
            "Loss in Iteration: 4 : 0.27255117893218994\n",
            "Loss in Iteration: 5 : 0.016555305570364\n",
            "Loss in Iteration: 6 : 0.024824969470500946\n",
            "Loss in Iteration: 7 : 0.2932407259941101\n",
            "Loss in Iteration: 8 : 0.05720900371670723\n",
            "Loss in Iteration: 9 : 0.1488131731748581\n",
            "Loss in Iteration: 10 : 0.1162281259894371\n",
            "Loss in Iteration: 11 : 0.04750339686870575\n",
            "Loss in Iteration: 12 : 0.1479606330394745\n",
            "Loss in Iteration: 13 : 0.12875241041183472\n",
            "Loss in Iteration: 14 : 0.15047715604305267\n",
            "Loss in Iteration: 15 : 0.06989068537950516\n",
            "Loss in Iteration: 16 : 0.11780279129743576\n",
            "Loss in Iteration: 17 : 0.09225644916296005\n",
            "Loss in Iteration: 18 : 0.16204169392585754\n",
            "Loss in Iteration: 19 : 0.2946959435939789\n",
            "Loss in Iteration: 20 : 0.1382964551448822\n",
            "Loss in Iteration: 21 : 0.05580788105726242\n",
            "Loss in Iteration: 22 : 0.33594560623168945\n",
            "Loss in Iteration: 23 : 0.10875774919986725\n",
            "Loss in Iteration: 24 : 0.19078245759010315\n",
            "Loss in Iteration: 25 : 0.16441385447978973\n",
            "Loss in Iteration: 26 : 0.1683126986026764\n",
            "Loss in Iteration: 27 : 0.14889225363731384\n",
            "Loss in Iteration: 28 : 0.0368739515542984\n",
            "Loss in Iteration: 29 : 0.07090695947408676\n",
            "Loss in Iteration: 30 : 0.2525290250778198\n",
            "Loss in Iteration: 31 : 0.08544234186410904\n",
            "Loss in Iteration: 32 : 0.12413453310728073\n",
            "Loss in Iteration: 33 : 0.37972965836524963\n",
            "Loss in Iteration: 34 : 0.056193023920059204\n",
            "Loss in Iteration: 35 : 0.09856414049863815\n",
            "Loss in Iteration: 36 : 0.05831000581383705\n",
            "Loss in Iteration: 37 : 0.03965200483798981\n",
            "Loss in Iteration: 38 : 0.07866110652685165\n",
            "Loss in Iteration: 39 : 0.16195473074913025\n",
            "Loss in Iteration: 40 : 0.29353824257850647\n",
            "Loss in Iteration: 41 : 0.08208442479372025\n",
            "Loss in Iteration: 42 : 0.05058787763118744\n",
            "Loss in Iteration: 43 : 0.2527364492416382\n",
            "Loss in Iteration: 44 : 0.13601510226726532\n",
            "Loss in Iteration: 45 : 0.03630433976650238\n",
            "Loss in Iteration: 46 : 0.012891445308923721\n",
            "Loss in Iteration: 47 : 0.03385372459888458\n",
            "Loss in Iteration: 48 : 0.061447858810424805\n",
            "Loss in Iteration: 49 : 0.013414779677987099\n",
            "Loss in Iteration: 50 : 0.12855218350887299\n",
            "Loss in Iteration: 51 : 0.09184648096561432\n",
            "Loss in Iteration: 52 : 0.06343623250722885\n",
            "Loss in Iteration: 53 : 0.03851652517914772\n",
            "Loss in Iteration: 54 : 0.0198917668312788\n",
            "Loss in Iteration: 55 : 0.20275045931339264\n",
            "Loss in Iteration: 56 : 0.16412566602230072\n",
            "Loss in Iteration: 57 : 0.24104097485542297\n",
            "Loss in Iteration: 58 : 0.17708365619182587\n",
            "Loss in Iteration: 59 : 0.02272508293390274\n",
            "Loss in Iteration: 60 : 0.06318915635347366\n",
            "Loss in Iteration: 61 : 0.1423981934785843\n",
            "Loss in Iteration: 62 : 0.1798592209815979\n",
            "Loss in Iteration: 63 : 0.05492948740720749\n",
            "Loss in Iteration: 64 : 0.0032113054767251015\n",
            "Loss in Iteration: 65 : 0.02371140941977501\n",
            "Loss in Iteration: 66 : 0.10539610683917999\n",
            "Loss in Iteration: 67 : 0.3082338869571686\n",
            "Loss in Iteration: 68 : 0.08913712948560715\n",
            "Loss in Iteration: 69 : 0.11356565356254578\n",
            "Loss in Iteration: 70 : 0.06618748605251312\n",
            "Loss in Iteration: 71 : 0.1312030702829361\n",
            "Loss in Iteration: 72 : 0.14215143024921417\n",
            "Loss in Iteration: 73 : 0.16929695010185242\n",
            "Loss in Iteration: 74 : 0.06004907190799713\n",
            "Loss in Iteration: 75 : 0.0293098296970129\n",
            "Loss in Iteration: 76 : 0.24856258928775787\n",
            "Loss in Iteration: 77 : 0.19460733234882355\n",
            "Loss in Iteration: 78 : 0.015719078481197357\n",
            "Loss in Iteration: 79 : 0.015606212429702282\n",
            "Loss in Iteration: 80 : 0.3575066030025482\n",
            "Loss in Iteration: 81 : 0.1635054051876068\n",
            "Loss in Iteration: 82 : 0.1404673159122467\n",
            "Loss in Iteration: 83 : 0.06733013689517975\n",
            "Loss in Iteration: 84 : 0.04711982235312462\n",
            "Loss in Iteration: 85 : 0.09122404456138611\n",
            "Loss in Iteration: 86 : 0.08351141959428787\n",
            "Loss in Iteration: 87 : 0.07127688825130463\n",
            "Loss in Iteration: 88 : 0.12288523465394974\n",
            "Loss in Iteration: 89 : 0.11020343005657196\n",
            "Epoch:8  Loss:0.1180827310308814  Acciracy:72.58882904052734%\n",
            "Loss in Iteration: 0 : 0.16511397063732147\n",
            "Loss in Iteration: 1 : 0.052763085812330246\n",
            "Loss in Iteration: 2 : 0.04157498478889465\n",
            "Loss in Iteration: 3 : 0.032158784568309784\n",
            "Loss in Iteration: 4 : 0.09031757712364197\n",
            "Loss in Iteration: 5 : 0.3573891222476959\n",
            "Loss in Iteration: 6 : 0.046871937811374664\n",
            "Loss in Iteration: 7 : 0.09974659234285355\n",
            "Loss in Iteration: 8 : 0.030979594215750694\n",
            "Loss in Iteration: 9 : 0.26734983921051025\n",
            "Loss in Iteration: 10 : 0.06496888399124146\n",
            "Loss in Iteration: 11 : 0.03387145698070526\n",
            "Loss in Iteration: 12 : 0.10609575361013412\n",
            "Loss in Iteration: 13 : 0.07653287053108215\n",
            "Loss in Iteration: 14 : 0.11291943490505219\n",
            "Loss in Iteration: 15 : 0.0941857174038887\n",
            "Loss in Iteration: 16 : 0.09583237022161484\n",
            "Loss in Iteration: 17 : 0.08640258014202118\n",
            "Loss in Iteration: 18 : 0.1573236584663391\n",
            "Loss in Iteration: 19 : 0.1559072881937027\n",
            "Loss in Iteration: 20 : 0.1657019853591919\n",
            "Loss in Iteration: 21 : 0.14932653307914734\n",
            "Loss in Iteration: 22 : 0.04601731523871422\n",
            "Loss in Iteration: 23 : 0.17654715478420258\n",
            "Loss in Iteration: 24 : 0.03656883165240288\n",
            "Loss in Iteration: 25 : 0.1330018788576126\n",
            "Loss in Iteration: 26 : 0.20891518890857697\n",
            "Loss in Iteration: 27 : 0.08529368788003922\n",
            "Loss in Iteration: 28 : 0.1506597101688385\n",
            "Loss in Iteration: 29 : 0.09459643810987473\n",
            "Loss in Iteration: 30 : 0.07227572798728943\n",
            "Loss in Iteration: 31 : 0.16769251227378845\n",
            "Loss in Iteration: 32 : 0.04026501253247261\n",
            "Loss in Iteration: 33 : 0.08783286064863205\n",
            "Loss in Iteration: 34 : 0.06461688876152039\n",
            "Loss in Iteration: 35 : 0.07513327151536942\n",
            "Loss in Iteration: 36 : 0.04802238568663597\n",
            "Loss in Iteration: 37 : 0.026088347658514977\n",
            "Loss in Iteration: 38 : 0.023456482216715813\n",
            "Loss in Iteration: 39 : 0.1443413496017456\n",
            "Loss in Iteration: 40 : 0.051917992532253265\n",
            "Loss in Iteration: 41 : 0.08928041160106659\n",
            "Loss in Iteration: 42 : 0.12345394492149353\n",
            "Loss in Iteration: 43 : 0.19129830598831177\n",
            "Loss in Iteration: 44 : 0.18372206389904022\n",
            "Loss in Iteration: 45 : 0.03780613839626312\n",
            "Loss in Iteration: 46 : 0.06387405097484589\n",
            "Loss in Iteration: 47 : 0.035364020615816116\n",
            "Loss in Iteration: 48 : 0.1057053953409195\n",
            "Loss in Iteration: 49 : 0.07709577679634094\n",
            "Loss in Iteration: 50 : 0.09737536311149597\n",
            "Loss in Iteration: 51 : 0.14222487807273865\n",
            "Loss in Iteration: 52 : 0.06447164714336395\n",
            "Loss in Iteration: 53 : 0.06929784268140793\n",
            "Loss in Iteration: 54 : 0.2074366956949234\n",
            "Loss in Iteration: 55 : 0.026430407539010048\n",
            "Loss in Iteration: 56 : 0.014525831677019596\n",
            "Loss in Iteration: 57 : 0.04039621353149414\n",
            "Loss in Iteration: 58 : 0.020920002833008766\n",
            "Loss in Iteration: 59 : 0.03706379607319832\n",
            "Loss in Iteration: 60 : 0.022292589768767357\n",
            "Loss in Iteration: 61 : 0.23800404369831085\n",
            "Loss in Iteration: 62 : 0.17210617661476135\n",
            "Loss in Iteration: 63 : 0.13110576570034027\n",
            "Loss in Iteration: 64 : 0.16513106226921082\n",
            "Loss in Iteration: 65 : 0.36604514718055725\n",
            "Loss in Iteration: 66 : 0.019810179248452187\n",
            "Loss in Iteration: 67 : 0.06191622093319893\n",
            "Loss in Iteration: 68 : 0.027287933975458145\n",
            "Loss in Iteration: 69 : 0.015585222281515598\n",
            "Loss in Iteration: 70 : 0.20992842316627502\n",
            "Loss in Iteration: 71 : 0.07394463568925858\n",
            "Loss in Iteration: 72 : 0.20066428184509277\n",
            "Loss in Iteration: 73 : 0.05722241476178169\n",
            "Loss in Iteration: 74 : 0.13440386950969696\n",
            "Loss in Iteration: 75 : 0.08811071515083313\n",
            "Loss in Iteration: 76 : 0.22290727496147156\n",
            "Loss in Iteration: 77 : 0.27818477153778076\n",
            "Loss in Iteration: 78 : 0.19249308109283447\n",
            "Loss in Iteration: 79 : 0.04672085866332054\n",
            "Loss in Iteration: 80 : 0.3483630418777466\n",
            "Loss in Iteration: 81 : 0.13599294424057007\n",
            "Loss in Iteration: 82 : 0.04488843306899071\n",
            "Loss in Iteration: 83 : 0.04378567263484001\n",
            "Loss in Iteration: 84 : 0.2159510999917984\n",
            "Loss in Iteration: 85 : 0.01844053901731968\n",
            "Loss in Iteration: 86 : 0.10852036625146866\n",
            "Loss in Iteration: 87 : 0.08746752142906189\n",
            "Loss in Iteration: 88 : 0.10795647650957108\n",
            "Loss in Iteration: 89 : 0.2742919623851776\n",
            "Epoch:9  Loss:0.11059825078894694  Acciracy:84.0101547241211%\n"
          ]
        }
      ]
    },
    {
      "cell_type": "code",
      "source": [
        "train_loss_list"
      ],
      "metadata": {
        "colab": {
          "base_uri": "https://localhost:8080/"
        },
        "id": "kW-BCQojqVBm",
        "outputId": "d0a9c2fe-344d-4df4-a4a4-6f55e94906d4"
      },
      "execution_count": 21,
      "outputs": [
        {
          "output_type": "execute_result",
          "data": {
            "text/plain": [
              "[0.3444259289238188,\n",
              " 0.2646005029893584,\n",
              " 0.2185926633162631,\n",
              " 0.2181337971654203,\n",
              " 0.16933303657505247,\n",
              " 0.16413609082034478,\n",
              " 0.13379529111294283,\n",
              " 0.1348846124071214,\n",
              " 0.1180827310308814,\n",
              " 0.11059825078894694]"
            ]
          },
          "metadata": {},
          "execution_count": 21
        }
      ]
    },
    {
      "cell_type": "code",
      "source": [
        "val_loss_list"
      ],
      "metadata": {
        "colab": {
          "base_uri": "https://localhost:8080/"
        },
        "id": "bZe73tpLAVX-",
        "outputId": "8d31c727-9b18-4a4e-94e3-940030890c39"
      },
      "execution_count": 22,
      "outputs": [
        {
          "output_type": "execute_result",
          "data": {
            "text/plain": [
              "[1.078054735293755,\n",
              " 0.7545294990906348,\n",
              " 0.6240328985911149,\n",
              " 0.8824841334269597,\n",
              " 0.7445102471571702,\n",
              " 0.591264376273522,\n",
              " 0.6286684480997232,\n",
              " 0.5899313355867679,\n",
              " 0.6512534893476046,\n",
              " 0.3904152294764152]"
            ]
          },
          "metadata": {},
          "execution_count": 22
        }
      ]
    },
    {
      "cell_type": "code",
      "source": [
        "plt.plot(range(num_epochs), train_loss_list,label='train_loss')\n",
        "plt.plot(range(num_epochs), val_loss_list,label='val_loss')\n",
        "plt.legend()\n"
      ],
      "metadata": {
        "colab": {
          "base_uri": "https://localhost:8080/",
          "height": 467
        },
        "id": "NIlO9o45AVUa",
        "outputId": "0292e17d-a1ac-445b-a9e7-4a0c4c79ab68"
      },
      "execution_count": 23,
      "outputs": [
        {
          "output_type": "execute_result",
          "data": {
            "text/plain": [
              "<matplotlib.legend.Legend at 0x7a4c1c30dde0>"
            ]
          },
          "metadata": {},
          "execution_count": 23
        },
        {
          "output_type": "display_data",
          "data": {
            "text/plain": [
              "<Figure size 640x480 with 1 Axes>"
            ],
            "image/png": "[encoded data removed]"
          },
          "metadata": {}
        }
      ]
    },
    {
      "cell_type": "code",
      "source": [
        "accuracy_list"
      ],
      "metadata": {
        "colab": {
          "base_uri": "https://localhost:8080/"
        },
        "id": "96bfF-3MAVSB",
        "outputId": "67c73027-c173-4bec-f7bb-fccdc1526af3"
      },
      "execution_count": 24,
      "outputs": [
        {
          "output_type": "execute_result",
          "data": {
            "text/plain": [
              "[tensor(51.5228),\n",
              " tensor(49.2386),\n",
              " tensor(62.9442),\n",
              " tensor(52.2843),\n",
              " tensor(72.8426),\n",
              " tensor(74.3655),\n",
              " tensor(74.6193),\n",
              " tensor(76.1421),\n",
              " tensor(72.5888),\n",
              " tensor(84.0102)]"
            ]
          },
          "metadata": {},
          "execution_count": 24
        }
      ]
    },
    {
      "cell_type": "code",
      "source": [
        "plt.plot(range(num_epochs), accuracy_list)"
      ],
      "metadata": {
        "colab": {
          "base_uri": "https://localhost:8080/",
          "height": 467
        },
        "id": "fC5qM55cAVPA",
        "outputId": "59eac786-fe2c-40da-fae4-a36789fcdc26"
      },
      "execution_count": 25,
      "outputs": [
        {
          "output_type": "execute_result",
          "data": {
            "text/plain": [
              "[<matplotlib.lines.Line2D at 0x7a4c1c21e5f0>]"
            ]
          },
          "metadata": {},
          "execution_count": 25
        },
        {
          "output_type": "display_data",
          "data": {
            "text/plain": [
              "<Figure size 640x480 with 1 Axes>"
            ],
            "image/png": "[encoded data removed]"
          },
          "metadata": {}
        }
      ]
    },
    {
      "cell_type": "code",
      "source": [
        "img, label = val_set[110]\n",
        "plt.imshow(img.permute(1,2,0))\n",
        "plt.title(label)"
      ],
      "metadata": {
        "colab": {
          "base_uri": "https://localhost:8080/",
          "height": 507
        },
        "id": "VWJXHC-FAVMV",
        "outputId": "4f098e6f-eed8-4349-90dc-b325a696f436"
      },
      "execution_count": 26,
      "outputs": [
        {
          "output_type": "stream",
          "name": "stderr",
          "text": [
            "WARNING:matplotlib.image:Clipping input data to the valid range for imshow with RGB data ([0..1] for floats or [0..255] for integers).\n"
          ]
        },
        {
          "output_type": "execute_result",
          "data": {
            "text/plain": [
              "Text(0.5, 1.0, '1')"
            ]
          },
          "metadata": {},
          "execution_count": 26
        },
        {
          "output_type": "display_data",
          "data": {
            "text/plain": [
              "<Figure size 640x480 with 1 Axes>"
            ],
            "image/png": "[encoded data removed]"
          },
          "metadata": {}
        }
      ]
    },
    {
      "cell_type": "code",
      "source": [],
      "metadata": {
        "id": "srqjSdoPAVJf"
      },
      "execution_count": null,
      "outputs": []
    },
    {
      "cell_type": "code",
      "source": [],
      "metadata": {
        "id": "6TruSw0_CUgk"
      },
      "execution_count": null,
      "outputs": []
    },
    {
      "cell_type": "code",
      "source": [],
      "metadata": {
        "id": "nhUI8p1yCUd7"
      },
      "execution_count": null,
      "outputs": []
    },
    {
      "cell_type": "code",
      "source": [],
      "metadata": {
        "id": "FYI6Gd5_CUZ4"
      },
      "execution_count": null,
      "outputs": []
    },
    {
      "cell_type": "code",
      "source": [],
      "metadata": {
        "id": "mVoBJglaCUTx"
      },
      "execution_count": null,
      "outputs": []
    },
    {
      "cell_type": "code",
      "source": [],
      "metadata": {
        "id": "CKGZdFWcCUQj"
      },
      "execution_count": null,
      "outputs": []
    },
    {
      "cell_type": "code",
      "source": [],
      "metadata": {
        "id": "RqWnEZIfAVHI"
      },
      "execution_count": null,
      "outputs": []
    },
    {
      "cell_type": "code",
      "source": [],
      "metadata": {
        "id": "T558z8WLqU-Q"
      },
      "execution_count": null,
      "outputs": []
    },
    {
      "cell_type": "code",
      "execution_count": null,
      "metadata": {
        "id": "Ke5-oPDCW2cP"
      },
      "outputs": [],
      "source": []
    },
    {
      "cell_type": "code",
      "execution_count": null,
      "metadata": {
        "id": "6nHsj5DXW196"
      },
      "outputs": [],
      "source": []
    },
    {
      "cell_type": "code",
      "execution_count": null,
      "metadata": {
        "id": "vpUTiwJDqwyH"
      },
      "outputs": [],
      "source": []
    },
    {
      "cell_type": "code",
      "source": [],
      "metadata": {
        "id": "GvB6Oensv7xe"
      },
      "execution_count": null,
      "outputs": []
    }
  ]
}